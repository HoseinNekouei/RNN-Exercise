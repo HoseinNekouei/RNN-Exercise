{
  "nbformat": 4,
  "nbformat_minor": 0,
  "metadata": {
    "colab": {
      "provenance": [],
      "gpuType": "T4",
      "authorship_tag": "ABX9TyP8cE3FSvw7Skhmm82IfnEW",
      "include_colab_link": true
    },
    "kernelspec": {
      "name": "python3",
      "display_name": "Python 3"
    },
    "language_info": {
      "name": "python"
    },
    "accelerator": "GPU"
  },
  "cells": [
    {
      "cell_type": "markdown",
      "metadata": {
        "id": "view-in-github",
        "colab_type": "text"
      },
      "source": [
        "<a href=\"https://colab.research.google.com/github/HoseinNekouei/RNN-Exercise/blob/main/HW1_RNN%26Transformers.ipynb\" target=\"_parent\"><img src=\"https://colab.research.google.com/assets/colab-badge.svg\" alt=\"Open In Colab\"/></a>"
      ]
    },
    {
      "cell_type": "code",
      "source": [
        "# RunGPU\n",
        "!nvidia-smi"
      ],
      "metadata": {
        "colab": {
          "base_uri": "https://localhost:8080/"
        },
        "id": "-mgFoQjo5joK",
        "outputId": "0b96c1c2-4eeb-4327-d11e-946ccbb3c08e"
      },
      "execution_count": null,
      "outputs": [
        {
          "output_type": "stream",
          "name": "stdout",
          "text": [
            "Mon Feb 12 20:02:10 2024       \n",
            "+---------------------------------------------------------------------------------------+\n",
            "| NVIDIA-SMI 535.104.05             Driver Version: 535.104.05   CUDA Version: 12.2     |\n",
            "|-----------------------------------------+----------------------+----------------------+\n",
            "| GPU  Name                 Persistence-M | Bus-Id        Disp.A | Volatile Uncorr. ECC |\n",
            "| Fan  Temp   Perf          Pwr:Usage/Cap |         Memory-Usage | GPU-Util  Compute M. |\n",
            "|                                         |                      |               MIG M. |\n",
            "|=========================================+======================+======================|\n",
            "|   0  Tesla T4                       Off | 00000000:00:04.0 Off |                    0 |\n",
            "| N/A   67C    P8              11W /  70W |      0MiB / 15360MiB |      0%      Default |\n",
            "|                                         |                      |                  N/A |\n",
            "+-----------------------------------------+----------------------+----------------------+\n",
            "                                                                                         \n",
            "+---------------------------------------------------------------------------------------+\n",
            "| Processes:                                                                            |\n",
            "|  GPU   GI   CI        PID   Type   Process name                            GPU Memory |\n",
            "|        ID   ID                                                             Usage      |\n",
            "|=======================================================================================|\n",
            "|  No running processes found                                                           |\n",
            "+---------------------------------------------------------------------------------------+\n"
          ]
        }
      ]
    },
    {
      "cell_type": "markdown",
      "source": [
        "# **Exercise 1.**"
      ],
      "metadata": {
        "id": "SCAzAXT1kmhF"
      }
    },
    {
      "cell_type": "code",
      "execution_count": null,
      "metadata": {
        "id": "j1lt42e6Xb8R"
      },
      "outputs": [],
      "source": [
        "from keras import layers\n",
        "import numpy as np"
      ]
    },
    {
      "cell_type": "code",
      "source": [
        "# Exercise 1.\n",
        "\n",
        "# an Array with shape ( 10, 8) & batch_size = 32\n",
        "input = np.random.random([32, 10, 8]).astype(np.float32)\n",
        "print(f'shape of input: {input.shape}')\n",
        "\n",
        "simple_rnn = layers.SimpleRNN(4)\n",
        "output = simple_rnn(input)\n",
        "\n",
        "print(f'Shape of output: {output.shape}')\n",
        "\n",
        "simple_rnn = layers.SimpleRNN(units= 4, return_state = True, return_sequences = True)\n",
        "whole_sequences_output, final_state = simple_rnn(input)\n",
        "\n",
        "print(f'whole of sequences output:\\n {whole_sequences_output[0]},\\\n",
        "shape: {whole_sequences_output.shape}')\n",
        "\n",
        "print(f'final state:\\n {final_state[0]} , shape: {final_state.shape}')"
      ],
      "metadata": {
        "colab": {
          "base_uri": "https://localhost:8080/"
        },
        "id": "-xI1uBOsXgjZ",
        "outputId": "569720ff-a058-4575-d0c1-215c7cdc752a"
      },
      "execution_count": null,
      "outputs": [
        {
          "output_type": "stream",
          "name": "stdout",
          "text": [
            "shape of input: (32, 10, 8)\n",
            "Shape of output: (32, 4)\n",
            "whole of sequences output:\n",
            " [[-0.40076604  0.5143362   0.67533463  0.7213934 ]\n",
            " [-0.6241306   0.53941995  0.709072    0.24938749]\n",
            " [-0.22702168  0.45321018  0.92233133  0.25101095]\n",
            " [-0.7319531   0.7697972   0.777375    0.5991269 ]\n",
            " [-0.66715026  0.8465206   0.9078952   0.33567363]\n",
            " [-0.810157    0.9491324   0.9213793   0.5794017 ]\n",
            " [-0.76917946  0.9177375   0.93170863  0.12893178]\n",
            " [-0.29773605  0.5486951   0.874091    0.5553814 ]\n",
            " [-0.85047156  0.84777194  0.6928838   0.49473017]\n",
            " [-0.69912195  0.69406635  0.7592431   0.48907652]],shape: (32, 10, 4)\n",
            "final state:\n",
            " [-0.69912195  0.69406635  0.7592431   0.48907652] , shape: (32, 4)\n"
          ]
        }
      ]
    },
    {
      "cell_type": "markdown",
      "source": [
        "# **Exercise 2.**\n",
        "\n",
        "> **Train MNIST dataset**\n",
        "\n"
      ],
      "metadata": {
        "id": "k0ZR-PKdkutF"
      }
    },
    {
      "cell_type": "markdown",
      "source": [
        "### **2.1. Bulid a MLP model**"
      ],
      "metadata": {
        "id": "4sPmwZKmlSm7"
      }
    },
    {
      "cell_type": "code",
      "source": [
        "from keras.datasets import mnist\n",
        "from keras.models import Sequential\n",
        "import matplotlib.pyplot as plt\n",
        "\n",
        "\n",
        "(x_train, y_train), (x_test, y_test) = mnist.load_data() # load mnist dataset\n",
        "assert x_train.shape == (60000, 28, 28)\n",
        "assert x_test.shape == (10000, 28, 28)\n",
        "assert y_train.shape == (60000,)\n",
        "assert y_test.shape == (10000,)\n",
        "\n",
        "plt.imshow(x_train[0], cmap='gray')\n",
        "plt.axis('off')\n",
        "plt.show()"
      ],
      "metadata": {
        "id": "aLntqPdvf6sP",
        "colab": {
          "base_uri": "https://localhost:8080/",
          "height": 406
        },
        "outputId": "687f7d3c-4372-483b-a895-5ff2914ffc55"
      },
      "execution_count": null,
      "outputs": [
        {
          "output_type": "display_data",
          "data": {
            "text/plain": [
              "<Figure size 640x480 with 1 Axes>"
            ],
            "image/png": "[encoded data removed]"
          },
          "metadata": {}
        }
      ]
    },
    {
      "cell_type": "code",
      "source": [
        "# Normalize features\n",
        "x_train , x_test = x_train/255.0 , x_test/255.0\n",
        "\n",
        "# build MLP model with MNIST Dataset\n",
        "model = Sequential([\n",
        "                  layers.Flatten(),\n",
        "                  layers.Dense(256, activation = 'relu'),\n",
        "                  layers.Dense(128, activation = 'relu'),\n",
        "                  layers.Dense(10, activation = 'softmax')\n",
        "])\n",
        "\n",
        "model.compile(optimizer='SGD',\n",
        "              loss= 'sparse_categorical_crossentropy',\n",
        "              metrics= ['Accuracy'])\n",
        "\n",
        "# train data\n",
        "model.fit(x_train,\n",
        "          y_train,\n",
        "          batch_size=32,\n",
        "          epochs= 15,\n",
        "          validation_data= (x_test, y_test))\n",
        "\n",
        "# Evaluate the model\n",
        "test_loss, test_accuracy = model.evaluate(x_test, y_test)\n",
        "print(f'Test Accuracy: {test_accuracy :.2f} , Test loss: {test_loss  :.2f}')"
      ],
      "metadata": {
        "colab": {
          "base_uri": "https://localhost:8080/"
        },
        "id": "c0JY0hDPg861",
        "outputId": "044e9cec-7948-4952-f0c2-b36c4b8aca3b"
      },
      "execution_count": null,
      "outputs": [
        {
          "output_type": "stream",
          "name": "stdout",
          "text": [
            "Epoch 1/15\n",
            "1875/1875 [==============================] - 7s 3ms/step - loss: 0.5946 - Accuracy: 0.8475 - val_loss: 0.2955 - val_Accuracy: 0.9191\n",
            "Epoch 2/15\n",
            "1875/1875 [==============================] - 6s 3ms/step - loss: 0.2778 - Accuracy: 0.9207 - val_loss: 0.2403 - val_Accuracy: 0.9311\n",
            "Epoch 3/15\n",
            "1875/1875 [==============================] - 6s 3ms/step - loss: 0.2276 - Accuracy: 0.9350 - val_loss: 0.1991 - val_Accuracy: 0.9433\n",
            "Epoch 4/15\n",
            "1875/1875 [==============================] - 6s 3ms/step - loss: 0.1945 - Accuracy: 0.9442 - val_loss: 0.1773 - val_Accuracy: 0.9479\n",
            "Epoch 5/15\n",
            "1875/1875 [==============================] - 7s 4ms/step - loss: 0.1698 - Accuracy: 0.9514 - val_loss: 0.1651 - val_Accuracy: 0.9513\n",
            "Epoch 6/15\n",
            "1875/1875 [==============================] - 5s 3ms/step - loss: 0.1511 - Accuracy: 0.9569 - val_loss: 0.1466 - val_Accuracy: 0.9586\n",
            "Epoch 7/15\n",
            "1875/1875 [==============================] - 6s 3ms/step - loss: 0.1360 - Accuracy: 0.9613 - val_loss: 0.1350 - val_Accuracy: 0.9622\n",
            "Epoch 8/15\n",
            "1875/1875 [==============================] - 6s 3ms/step - loss: 0.1233 - Accuracy: 0.9649 - val_loss: 0.1262 - val_Accuracy: 0.9627\n",
            "Epoch 9/15\n",
            "1875/1875 [==============================] - 6s 3ms/step - loss: 0.1125 - Accuracy: 0.9686 - val_loss: 0.1200 - val_Accuracy: 0.9643\n",
            "Epoch 10/15\n",
            "1875/1875 [==============================] - 5s 3ms/step - loss: 0.1034 - Accuracy: 0.9704 - val_loss: 0.1114 - val_Accuracy: 0.9680\n",
            "Epoch 11/15\n",
            "1875/1875 [==============================] - 6s 3ms/step - loss: 0.0953 - Accuracy: 0.9726 - val_loss: 0.1088 - val_Accuracy: 0.9680\n",
            "Epoch 12/15\n",
            "1875/1875 [==============================] - 6s 3ms/step - loss: 0.0886 - Accuracy: 0.9751 - val_loss: 0.1007 - val_Accuracy: 0.9695\n",
            "Epoch 13/15\n",
            "1875/1875 [==============================] - 8s 5ms/step - loss: 0.0818 - Accuracy: 0.9771 - val_loss: 0.0979 - val_Accuracy: 0.9700\n",
            "Epoch 14/15\n",
            "1875/1875 [==============================] - 5s 3ms/step - loss: 0.0765 - Accuracy: 0.9784 - val_loss: 0.0953 - val_Accuracy: 0.9704\n",
            "Epoch 15/15\n",
            "1875/1875 [==============================] - 6s 3ms/step - loss: 0.0711 - Accuracy: 0.9802 - val_loss: 0.0893 - val_Accuracy: 0.9735\n",
            "313/313 [==============================] - 1s 2ms/step - loss: 0.0893 - Accuracy: 0.9735\n",
            "Test Accuracy: 0.97 , Test loss: 0.09\n"
          ]
        }
      ]
    },
    {
      "cell_type": "code",
      "source": [
        "model.summary()"
      ],
      "metadata": {
        "colab": {
          "base_uri": "https://localhost:8080/"
        },
        "id": "D3UmhXWvEOzn",
        "outputId": "1f36c921-029b-4c9d-9d2d-5df1d8142b95"
      },
      "execution_count": null,
      "outputs": [
        {
          "output_type": "stream",
          "name": "stdout",
          "text": [
            "Model: \"sequential_6\"\n",
            "_________________________________________________________________\n",
            " Layer (type)                Output Shape              Param #   \n",
            "=================================================================\n",
            " flatten (Flatten)           (None, 784)               0         \n",
            "                                                                 \n",
            " dense_6 (Dense)             (None, 256)               200960    \n",
            "                                                                 \n",
            " dense_7 (Dense)             (None, 128)               32896     \n",
            "                                                                 \n",
            " dense_8 (Dense)             (None, 10)                1290      \n",
            "                                                                 \n",
            "=================================================================\n",
            "Total params: 235146 (918.54 KB)\n",
            "Trainable params: 235146 (918.54 KB)\n",
            "Non-trainable params: 0 (0.00 Byte)\n",
            "_________________________________________________________________\n"
          ]
        }
      ]
    },
    {
      "cell_type": "markdown",
      "source": [
        "### **2.2. Build a RNN model**"
      ],
      "metadata": {
        "id": "XhNoJ2kblhpq"
      }
    },
    {
      "cell_type": "code",
      "source": [
        "# build SimpleRNN model for MNIST Dataset\n",
        "# I don't need to use pad_sequence because each vector is exactly 255 items.\n",
        "from keras.layers import SimpleRNN, Dense\n",
        "\n",
        "# Preprocess data\n",
        "x_train= x_train / 255.0\n",
        "x_test= x_test / 255.0\n",
        "\n",
        "assert x_train.shape== (60000, 28, 28)\n",
        "assert x_test.shape== (10000, 28, 28)"
      ],
      "metadata": {
        "id": "Qnb2V59h2i72"
      },
      "execution_count": null,
      "outputs": []
    },
    {
      "cell_type": "code",
      "source": [
        "# build the SimpleRnn model\n",
        "model = Sequential([\n",
        "    SimpleRNN(256, input_shape = (28, 28), return_sequences= True),\n",
        "    SimpleRNN(128),\n",
        "    Dense(10, activation = 'softmax')\n",
        "])\n",
        "\n",
        "# Compile the model\n",
        "model.compile(optimizer = 'SGD',\n",
        "              loss = 'sparse_categorical_crossentropy',\n",
        "              metrics=['Accuracy'])\n",
        "\n",
        "# Train the Model\n",
        "model.fit(x_train,\n",
        "          y_train,\n",
        "          batch_size = 32,\n",
        "          epochs = 15,\n",
        "          validation_data = (x_test, y_test))\n",
        "\n",
        "# Evaluate the model\n",
        "test_loss, test_accuracy = model.evaluate(x_test, y_test)\n",
        "print(f'Test Accuracy: {test_accuracy :.2f} , Test loss: {test_loss  :.2f}')"
      ],
      "metadata": {
        "id": "oEN_Np4wl_hL",
        "colab": {
          "base_uri": "https://localhost:8080/"
        },
        "outputId": "73cb41bd-4198-48bd-fbe3-6eef572b3392"
      },
      "execution_count": null,
      "outputs": [
        {
          "output_type": "stream",
          "name": "stdout",
          "text": [
            "Epoch 1/15\n",
            "1875/1875 [==============================] - 61s 32ms/step - loss: 1.1307 - Accuracy: 0.5850 - val_loss: 0.7443 - val_Accuracy: 0.7402\n",
            "Epoch 2/15\n",
            "1875/1875 [==============================] - 63s 34ms/step - loss: 0.6163 - Accuracy: 0.7941 - val_loss: 0.5212 - val_Accuracy: 0.8363\n",
            "Epoch 3/15\n",
            "1875/1875 [==============================] - 59s 31ms/step - loss: 0.4524 - Accuracy: 0.8544 - val_loss: 0.4116 - val_Accuracy: 0.8718\n",
            "Epoch 4/15\n",
            "1875/1875 [==============================] - 60s 32ms/step - loss: 0.3677 - Accuracy: 0.8863 - val_loss: 0.3499 - val_Accuracy: 0.8886\n",
            "Epoch 5/15\n",
            "1875/1875 [==============================] - 60s 32ms/step - loss: 0.3141 - Accuracy: 0.9015 - val_loss: 0.3383 - val_Accuracy: 0.8948\n",
            "Epoch 6/15\n",
            "1875/1875 [==============================] - 60s 32ms/step - loss: 0.2671 - Accuracy: 0.9180 - val_loss: 0.4120 - val_Accuracy: 0.8786\n",
            "Epoch 7/15\n",
            "1875/1875 [==============================] - 60s 32ms/step - loss: 0.2277 - Accuracy: 0.9319 - val_loss: 0.2135 - val_Accuracy: 0.9372\n",
            "Epoch 8/15\n",
            "1875/1875 [==============================] - 61s 33ms/step - loss: 0.2157 - Accuracy: 0.9370 - val_loss: 0.2079 - val_Accuracy: 0.9426\n",
            "Epoch 9/15\n",
            "1875/1875 [==============================] - 63s 34ms/step - loss: 0.1993 - Accuracy: 0.9431 - val_loss: 0.2335 - val_Accuracy: 0.9288\n",
            "Epoch 10/15\n",
            "1875/1875 [==============================] - 63s 33ms/step - loss: 0.1893 - Accuracy: 0.9457 - val_loss: 0.1953 - val_Accuracy: 0.9426\n",
            "Epoch 11/15\n",
            "1875/1875 [==============================] - 62s 33ms/step - loss: 0.1727 - Accuracy: 0.9510 - val_loss: 0.1656 - val_Accuracy: 0.9552\n",
            "Epoch 12/15\n",
            "1875/1875 [==============================] - 64s 34ms/step - loss: 0.1625 - Accuracy: 0.9530 - val_loss: 0.1971 - val_Accuracy: 0.9408\n",
            "Epoch 13/15\n",
            "1875/1875 [==============================] - 63s 34ms/step - loss: 0.1558 - Accuracy: 0.9550 - val_loss: 0.2572 - val_Accuracy: 0.9206\n",
            "Epoch 14/15\n",
            "1875/1875 [==============================] - 62s 33ms/step - loss: 0.1582 - Accuracy: 0.9546 - val_loss: 0.1596 - val_Accuracy: 0.9554\n",
            "Epoch 15/15\n",
            "1875/1875 [==============================] - 63s 34ms/step - loss: 0.1481 - Accuracy: 0.9577 - val_loss: 0.1377 - val_Accuracy: 0.9593\n",
            "313/313 [==============================] - 2s 6ms/step - loss: 0.1377 - Accuracy: 0.9593\n",
            "Test Accuracy: 0.96 , Test loss: 0.14\n"
          ]
        }
      ]
    },
    {
      "cell_type": "markdown",
      "source": [
        "# **Exercise 3.**\n",
        "\n",
        "> ***Conclution**\n",
        "\n",
        "> An MLP model with two layers has twice as many parameters as a SimpleRNN\n",
        "but produces similar results."
      ],
      "metadata": {
        "id": "GJCzFdsM9oT8"
      }
    },
    {
      "cell_type": "code",
      "source": [
        "model.summary()\n",
        "\n",
        "\"\"\"\n",
        "SimpleRNN Params equal to recurrent_weights + input_weights + biases\n",
        "\n",
        "for first layer the params equal to:\n",
        "  recurrent_weights = num_units* num_units (256 * 256 = 65,536)\n",
        "  input_weights = num_features* num_units (28 * 256 = 7,168)\n",
        "  bias = num_units (256)\n",
        "\n",
        "  Total Params of SimpleRNN layer = 72,960\n",
        "\"\"\""
      ],
      "metadata": {
        "colab": {
          "base_uri": "https://localhost:8080/",
          "height": 328
        },
        "id": "pMHwyOjW9xxG",
        "outputId": "03733179-b650-46df-e525-d94214756c51"
      },
      "execution_count": null,
      "outputs": [
        {
          "output_type": "stream",
          "name": "stdout",
          "text": [
            "Model: \"sequential_5\"\n",
            "_________________________________________________________________\n",
            " Layer (type)                Output Shape              Param #   \n",
            "=================================================================\n",
            " simple_rnn_11 (SimpleRNN)   (None, 28, 256)           72960     \n",
            "                                                                 \n",
            " simple_rnn_12 (SimpleRNN)   (None, 128)               49280     \n",
            "                                                                 \n",
            " dense_5 (Dense)             (None, 10)                1290      \n",
            "                                                                 \n",
            "=================================================================\n",
            "Total params: 123530 (482.54 KB)\n",
            "Trainable params: 123530 (482.54 KB)\n",
            "Non-trainable params: 0 (0.00 Byte)\n",
            "_________________________________________________________________\n"
          ]
        },
        {
          "output_type": "execute_result",
          "data": {
            "text/plain": [
              "'\\nSimpleRNN Params equal to recurrent_weights + input_weights + biases\\n\\nfor first layer the params equal to:\\n  recurrent_weights = num_units* num_units (256 * 256 = 65,536)\\n  input_weights = num_features* num_units (28 * 256 = 7,168)\\n  bias = num_units (256)\\n\\n  Total Params of SimpleRNN layer = 72,960\\n'"
            ],
            "application/vnd.google.colaboratory.intrinsic+json": {
              "type": "string"
            }
          },
          "metadata": {},
          "execution_count": 17
        }
      ]
    },
    {
      "cell_type": "markdown",
      "source": [
        "# **Excercise 4.**\n",
        "\n",
        "> **Video Classification**\n",
        "\n",
        "با توجه به وابستگی هر فریم ویدئو به فریم قبلی خودش برای استخراج ویژگی بهتر است از شبکه های بازگشتی عصبی استفاده کنیم و برای استخراج ویژگی از شبکه های عصبی پیچیده\n",
        "\n",
        "در فریم های ویدئو هر فریم به فریم قبلی خودش وابسته است که لزوم استفاده از شبکه بازگشتی را نشان می دهد. در اینحالت هر فریم که شامل تعداد عکس است بعنوان فیچرها به شبکه داده می شود\n",
        "\n"
      ],
      "metadata": {
        "id": "Esc_Ytmnnyx9"
      }
    }
  ]
}