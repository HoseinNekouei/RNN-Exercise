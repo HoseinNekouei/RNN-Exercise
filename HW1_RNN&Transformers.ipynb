{
  "nbformat": 4,
  "nbformat_minor": 0,
  "metadata": {
    "colab": {
      "provenance": [],
      "authorship_tag": "ABX9TyOJREPlcCszvmhRBDSvwCC7",
      "include_colab_link": true
    },
    "kernelspec": {
      "name": "python3",
      "display_name": "Python 3"
    },
    "language_info": {
      "name": "python"
    }
  },
  "cells": [
    {
      "cell_type": "markdown",
      "metadata": {
        "id": "view-in-github",
        "colab_type": "text"
      },
      "source": [
        "<a href=\"https://colab.research.google.com/github/HoseinNekouei/RNN-Exercise/blob/main/HW1_RNN%26Transformers.ipynb\" target=\"_parent\"><img src=\"https://colab.research.google.com/assets/colab-badge.svg\" alt=\"Open In Colab\"/></a>"
      ]
    },
    {
      "cell_type": "code",
      "source": [
        "from tensorflow import keras\n",
        "from keras import layers"
      ],
      "metadata": {
        "id": "BwGOUisdJhPZ"
      },
      "execution_count": 8,
      "outputs": []
    },
    {
      "cell_type": "code",
      "execution_count": 26,
      "metadata": {
        "colab": {
          "base_uri": "https://localhost:8080/"
        },
        "id": "de_biL8FFE4k",
        "outputId": "3fd66177-6ebd-49f8-a8a1-7df3614b02a4"
      },
      "outputs": [
        {
          "output_type": "stream",
          "name": "stdout",
          "text": [
            "shape of input: (32, 10, 8)\n",
            "Shape of output: (32, 4)\n",
            "whole of sequences output:\n",
            " [[ 0.20121795  0.48158416 -0.5696055   0.62844265]\n",
            " [ 0.7469406  -0.15673731 -0.07065518 -0.06212314]\n",
            " [ 0.33502594 -0.2057783  -0.7009058   0.61650634]\n",
            " [-0.02587533 -0.47362676 -0.1313477   0.528511  ]\n",
            " [ 0.21875495 -0.27294648 -0.89429855  0.8202728 ]\n",
            " [ 0.7074008  -0.6750392  -0.79891515  0.68209267]\n",
            " [ 0.3255795  -0.69610566  0.17219375  0.594785  ]\n",
            " [ 0.22818927 -0.25414774 -0.7757275   0.41327804]\n",
            " [ 0.20799191 -0.7068724  -0.46881765 -0.07271965]\n",
            " [-0.25008193 -0.22527519 -0.47480693  0.6299073 ]], shape: (32, 10, 4)\n",
            "final state:\n",
            " [-0.25008193 -0.22527519 -0.47480693  0.6299073 ] , shape: (32, 4)\n"
          ]
        }
      ],
      "source": [
        "import tensorflow as tf\n",
        "import numpy as np\n",
        "\n",
        "# an Array with shape ( 10, 8) & batch_size = 32\n",
        "input = np.random.random([32, 10, 8]).astype(np.float32)\n",
        "print(f'shape of input: {input.shape}')\n",
        "\n",
        "simple_rnn = layers.SimpleRNN(4)\n",
        "output = simple_rnn(input)\n",
        "\n",
        "print(f'Shape of output: {output.shape}')\n",
        "\n",
        "simple_rnn = layers.SimpleRNN(units= 4, return_state = True, return_sequences = True)\n",
        "whole_sequences_output, final_state = simple_rnn(input)\n",
        "\n",
        "print(f'whole of sequences output:\\n {whole_sequences_output[0]}, shape: {whole_sequences_output.shape}')\n",
        "print(f'final state:\\n {final_state[0]} , shape: {final_state.shape}')\n",
        "\n"
      ]
    }
  ]
}