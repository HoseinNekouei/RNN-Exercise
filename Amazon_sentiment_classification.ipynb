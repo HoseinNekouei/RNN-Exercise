{
  "nbformat": 4,
  "nbformat_minor": 0,
  "metadata": {
    "colab": {
      "provenance": [],
      "authorship_tag": "ABX9TyNwULt4wZlk89XzP91GEszn",
      "include_colab_link": true
    },
    "kernelspec": {
      "name": "python3",
      "display_name": "Python 3"
    },
    "language_info": {
      "name": "python"
    }
  },
  "cells": [
    {
      "cell_type": "markdown",
      "metadata": {
        "id": "view-in-github",
        "colab_type": "text"
      },
      "source": [
        "<a href=\"https://colab.research.google.com/github/HoseinNekouei/RNN-Exercise/blob/main/Amazon_sentiment_classification.ipynb\" target=\"_parent\"><img src=\"https://colab.research.google.com/assets/colab-badge.svg\" alt=\"Open In Colab\"/></a>"
      ]
    },
    {
      "cell_type": "code",
      "execution_count": 2,
      "metadata": {
        "id": "XsNmDAIM5gMQ",
        "colab": {
          "base_uri": "https://localhost:8080/",
          "height": 0
        },
        "outputId": "ef1d2483-9b8b-4206-8428-aede13bce905"
      },
      "outputs": [
        {
          "output_type": "stream",
          "name": "stdout",
          "text": [
            "Drive already mounted at /content/drive; to attempt to forcibly remount, call drive.mount(\"/content/drive\", force_remount=True).\n"
          ]
        }
      ],
      "source": [
        "from google.colab import drive\n",
        "drive.mount('/content/drive')"
      ]
    },
    {
      "cell_type": "code",
      "source": [
        "import pandas as pd\n",
        "import numpy as np\n",
        "import tensorflow as tf\n",
        "from sklearn.model_selection import train_test_split\n",
        "from tensorflow import keras\n",
        "from keras import Model, layers\n",
        "import matplotlib.pyplot as plt"
      ],
      "metadata": {
        "id": "uxkWwDmo6Idj"
      },
      "execution_count": 3,
      "outputs": []
    },
    {
      "cell_type": "code",
      "source": [
        "MAX_TOKEN =  10000\n",
        "MAX_LEN = 512\n",
        "EPOCHS = 10\n",
        "BATCH_SIZE = 64"
      ],
      "metadata": {
        "id": "bCg2Qm-66L0b"
      },
      "execution_count": 4,
      "outputs": []
    },
    {
      "cell_type": "code",
      "source": [
        "# Read cvs file in memory\n",
        "data = pd.read_csv('/content/drive/MyDrive/dataset/amazon_baby.csv',\n",
        "                   usecols=[1,2],nrows=10000)\n",
        "\n",
        "# drop null reviews\n",
        "empty_idxs = data[data['review'].isnull()].index\n",
        "data.drop(empty_idxs, inplace=True)\n",
        "\n",
        "features = data['review'].astype(str)\n",
        "labels = data['rating'].apply(lambda x: 0 if x > 0 and x <=2 else 1)\n",
        "\n",
        "# Split dataset into training and testing dataset\n",
        "x_train, x_test, y_train, y_test = train_test_split(features,\n",
        "                                                    labels,\n",
        "                                                    test_size=0.2,\n",
        "                                                    random_state= 42,\n",
        "                                                    shuffle=True)\n",
        "print(x_train.shape)"
      ],
      "metadata": {
        "colab": {
          "base_uri": "https://localhost:8080/",
          "height": 0
        },
        "id": "lsSMnXOJ6Ne5",
        "outputId": "52d2858d-15cf-4e40-f70b-24ac350c6bf3"
      },
      "execution_count": 5,
      "outputs": [
        {
          "output_type": "stream",
          "name": "stdout",
          "text": [
            "(7983,)\n"
          ]
        }
      ]
    },
    {
      "cell_type": "code",
      "source": [
        "# Create a TextVectorization layer\n",
        "vectorizer = layers.TextVectorization(max_tokens= MAX_TOKEN,\n",
        "                                                output_mode= 'int',\n",
        "                                                output_sequence_length= MAX_LEN)\n",
        "\n",
        "# Adapt the TextVectorization layer to text data\n",
        "vectorizer.adapt(x_train)\n",
        "\n",
        "print(vectorizer.get_vocabulary()[:10])"
      ],
      "metadata": {
        "colab": {
          "base_uri": "https://localhost:8080/",
          "height": 0
        },
        "id": "HgYjY0Xe6bCz",
        "outputId": "55de672f-f9c8-4651-f4f3-aae0a4c74466"
      },
      "execution_count": 6,
      "outputs": [
        {
          "output_type": "stream",
          "name": "stdout",
          "text": [
            "['', '[UNK]', 'the', 'and', 'i', 'to', 'it', 'a', 'is', 'this']\n"
          ]
        }
      ]
    },
    {
      "cell_type": "code",
      "source": [
        "# Define input layer\n",
        "inputs = keras.Input(shape = (1,), dtype = tf.string)\n",
        "\n",
        "# vectorize input\n",
        "vectorize = vectorizer(inputs)\n",
        "\n",
        "# Embedding layer\n",
        "embeded= layers.Embedding(input_dim= MAX_TOKEN, output_dim= 256)(vectorize)\n",
        "\n",
        "x = layers.LSTM(units= 128, recurrent_dropout=0.5, return_sequences=True)(embeded)\n",
        "x = layers.LSTM(units= 64, recurrent_dropout=0.5, return_sequences=True)(x)\n",
        "x = layers.LSTM(units= 32, recurrent_dropout=0.5, return_sequences=True)(x)\n",
        "x = layers.LSTM(units= 32, recurrent_dropout=0.5)(x)\n",
        "x = layers.Dropout(0.5)(x)\n",
        "\n",
        "# Output layer\n",
        "outputs = layers.Dense(1, activation='sigmoid')(x)\n",
        "\n",
        "# Create Model\n",
        "model = Model(inputs, outputs)\n",
        "\n",
        "# Compile the model\n",
        "model.compile(optimizer= 'adam',\n",
        "              loss = 'binary_crossentropy',\n",
        "              metrics= 'accuracy')\n",
        "\n",
        "model.summary()\n",
        "\n",
        "history = model.fit(x_train , y_train, validation_data= (x_test, y_test),\n",
        "                    epochs = EPOCHS, batch_size= BATCH_SIZE)\n",
        "\n",
        "loss, accuracy = model.evaluate(x_test, y_test)\n",
        "print(f'Test loss: {loss :.2f}, Test accuracy: {accuracy :.2f}')\n",
        "\n",
        "# save model\n",
        "model.save(\"amazon_model\", save_format='tf')"
      ],
      "metadata": {
        "colab": {
          "base_uri": "https://localhost:8080/",
          "height": 0
        },
        "id": "b_ZVeoFO6fZk",
        "outputId": "c948107c-7396-4103-b322-ff7187259883"
      },
      "execution_count": 7,
      "outputs": [
        {
          "output_type": "stream",
          "name": "stdout",
          "text": [
            "Model: \"model\"\n",
            "_________________________________________________________________\n",
            " Layer (type)                Output Shape              Param #   \n",
            "=================================================================\n",
            " input_1 (InputLayer)        [(None, 1)]               0         \n",
            "                                                                 \n",
            " text_vectorization (TextVe  (None, 512)               0         \n",
            " ctorization)                                                    \n",
            "                                                                 \n",
            " embedding (Embedding)       (None, 512, 256)          2560000   \n",
            "                                                                 \n",
            " lstm (LSTM)                 (None, 512, 128)          197120    \n",
            "                                                                 \n",
            " lstm_1 (LSTM)               (None, 512, 64)           49408     \n",
            "                                                                 \n",
            " lstm_2 (LSTM)               (None, 512, 32)           12416     \n",
            "                                                                 \n",
            " lstm_3 (LSTM)               (None, 32)                8320      \n",
            "                                                                 \n",
            " dropout (Dropout)           (None, 32)                0         \n",
            "                                                                 \n",
            " dense (Dense)               (None, 1)                 33        \n",
            "                                                                 \n",
            "=================================================================\n",
            "Total params: 2827297 (10.79 MB)\n",
            "Trainable params: 2827297 (10.79 MB)\n",
            "Non-trainable params: 0 (0.00 Byte)\n",
            "_________________________________________________________________\n",
            "Epoch 1/10\n",
            "125/125 [==============================] - 365s 3s/step - loss: 0.4967 - accuracy: 0.8090 - val_loss: 0.5061 - val_accuracy: 0.7961\n",
            "Epoch 2/10\n",
            "125/125 [==============================] - 355s 3s/step - loss: 0.4936 - accuracy: 0.8120 - val_loss: 0.5060 - val_accuracy: 0.7961\n",
            "Epoch 3/10\n",
            "125/125 [==============================] - 349s 3s/step - loss: 0.4900 - accuracy: 0.8120 - val_loss: 0.5115 - val_accuracy: 0.7961\n",
            "Epoch 4/10\n",
            "125/125 [==============================] - 355s 3s/step - loss: 0.4902 - accuracy: 0.8120 - val_loss: 0.5062 - val_accuracy: 0.7961\n",
            "Epoch 5/10\n",
            "125/125 [==============================] - 349s 3s/step - loss: 0.4907 - accuracy: 0.8120 - val_loss: 0.5075 - val_accuracy: 0.7961\n",
            "Epoch 6/10\n",
            "125/125 [==============================] - 349s 3s/step - loss: 0.4900 - accuracy: 0.8120 - val_loss: 0.5067 - val_accuracy: 0.7961\n",
            "Epoch 7/10\n",
            "125/125 [==============================] - 354s 3s/step - loss: 0.4889 - accuracy: 0.8120 - val_loss: 0.5058 - val_accuracy: 0.7961\n",
            "Epoch 8/10\n",
            "125/125 [==============================] - 354s 3s/step - loss: 0.4891 - accuracy: 0.8120 - val_loss: 0.5060 - val_accuracy: 0.7961\n",
            "Epoch 9/10\n",
            "125/125 [==============================] - 354s 3s/step - loss: 0.4876 - accuracy: 0.8120 - val_loss: 0.5065 - val_accuracy: 0.7961\n",
            "Epoch 10/10\n",
            "125/125 [==============================] - 355s 3s/step - loss: 0.4898 - accuracy: 0.8120 - val_loss: 0.5080 - val_accuracy: 0.7961\n",
            "63/63 [==============================] - 16s 261ms/step - loss: 0.5080 - accuracy: 0.7961\n",
            "Test loss: 0.51, Test accuracy: 0.80\n"
          ]
        }
      ]
    },
    {
      "cell_type": "code",
      "source": [
        "plt.style.use('ggplot')\n",
        "\n",
        "# Get the loss and accuracy values from the history object\n",
        "loss = history.history['loss']\n",
        "val_loss = history.history['val_loss']\n",
        "accuracy = history.history['accuracy']\n",
        "val_accuracy = history.history['val_accuracy']\n",
        "\n",
        "plt.figure(figsize =(12,4))\n",
        "plt.subplot(1, 2, 1)\n",
        "plt.plot(np.arange(EPOCHS), loss, label='Loss')\n",
        "plt.plot(np.arange(EPOCHS), accuracy, label='accuracy')\n",
        "plt.title('Train Loss/Accuracy')\n",
        "\n",
        "plt.subplot(1, 2, 2)\n",
        "plt.plot(np.arange(EPOCHS), val_loss, label= 'Val_loss')\n",
        "plt.plot(np.arange(EPOCHS), val_accuracy, label= 'Val_accuracy')\n",
        "plt.title('Test Loss/Accuracy')\n",
        "\n",
        "plt.tight_layout()\n",
        "plt.legend()\n",
        "\n",
        "plt.xlabel('Epotch')\n",
        "plt.ylabel('Loss/Accuracy')\n",
        "plt.title('Amazon sentiment analysis')\n",
        "\n",
        "plt.show()"
      ],
      "metadata": {
        "colab": {
          "base_uri": "https://localhost:8080/",
          "height": 430
        },
        "id": "oHRjlkSW6jWR",
        "outputId": "0c61246a-4b96-462a-f0ea-766c86d3a244"
      },
      "execution_count": 8,
      "outputs": [
        {
          "output_type": "display_data",
          "data": {
            "text/plain": [
              "<Figure size 1200x400 with 2 Axes>"
            ],
            "image/png": "[encoded data removed]"
          },
          "metadata": {}
        }
      ]
    }
  ]
}