{
  "cells": [
    {
      "cell_type": "markdown",
      "metadata": {
        "id": "view-in-github",
        "colab_type": "text"
      },
      "source": [
        "<a href=\"https://colab.research.google.com/github/HoseinNekouei/RNN-Exercise/blob/main/Amazon_sentiment_classification.ipynb\" target=\"_parent\"><img src=\"https://colab.research.google.com/assets/colab-badge.svg\" alt=\"Open In Colab\"/></a>"
      ]
    },
    {
      "cell_type": "code",
      "execution_count": 1,
      "metadata": {
        "colab": {
          "base_uri": "https://localhost:8080/"
        },
        "id": "XsNmDAIM5gMQ",
        "outputId": "0a56675a-b403-4940-9136-b104f212d021"
      },
      "outputs": [
        {
          "output_type": "stream",
          "name": "stdout",
          "text": [
            "Mounted at /content/drive\n"
          ]
        }
      ],
      "source": [
        "from google.colab import drive\n",
        "drive.mount('/content/drive')"
      ]
    },
    {
      "cell_type": "code",
      "execution_count": 2,
      "metadata": {
        "id": "uxkWwDmo6Idj"
      },
      "outputs": [],
      "source": [
        "import pandas as pd\n",
        "import numpy as np\n",
        "import tensorflow as tf\n",
        "from sklearn.model_selection import train_test_split\n",
        "from tensorflow import keras\n",
        "from keras import Model, layers\n",
        "import matplotlib.pyplot as plt"
      ]
    },
    {
      "cell_type": "code",
      "execution_count": 3,
      "metadata": {
        "id": "bCg2Qm-66L0b"
      },
      "outputs": [],
      "source": [
        "MAX_TOKEN =  10000\n",
        "MAX_LEN = 512\n",
        "EPOCHS = 10\n",
        "BATCH_SIZE = 64"
      ]
    },
    {
      "cell_type": "code",
      "execution_count": 4,
      "metadata": {
        "colab": {
          "base_uri": "https://localhost:8080/"
        },
        "id": "lsSMnXOJ6Ne5",
        "outputId": "34841122-4734-40d9-877a-948f90320529"
      },
      "outputs": [
        {
          "output_type": "stream",
          "name": "stdout",
          "text": [
            "5    106483\n",
            "4     33099\n",
            "3     16727\n",
            "1     15116\n",
            "2     11277\n",
            "Name: rating, dtype: int64\n",
            "shape of x_train: (146161,)\n",
            "shape of x_test: (36541,)\n"
          ]
        }
      ],
      "source": [
        "# Read cvs file in memory\n",
        "data = pd.read_csv('/content/drive/MyDrive/dataset/amazon_baby.csv',\n",
        "                   usecols=[1,2])\n",
        "\n",
        "# drop null reviews\n",
        "empty_idxs = data[data['review'].isnull()].index\n",
        "data.drop(empty_idxs, inplace=True)\n",
        "\n",
        "features = data['review'].astype(str)\n",
        "labels = data['rating'].apply(lambda x: 0 if x > 0 and x <=2 else 1)\n",
        "\n",
        "print(data['rating'].value_counts())\n",
        "\n",
        "# Split dataset into training and testing dataset\n",
        "x_train, x_test, y_train, y_test = train_test_split(features,\n",
        "                                                    labels,\n",
        "                                                    test_size=0.2,\n",
        "                                                    random_state= 42,\n",
        "                                                    shuffle=True)\n",
        "print(f'shape of x_train: {x_train.shape}')\n",
        "print(f'shape of x_test: {x_test.shape}')"
      ]
    },
    {
      "cell_type": "code",
      "source": [
        "import seaborn as sns\n",
        "\n",
        "# Plot a histogram\n",
        "sns.violinplot(data=[data['rating']], color='skyblue')\n",
        "plt.xlabel('Data')\n",
        "plt.ylabel('Frequency')\n",
        "plt.title('Histogram of Data')\n",
        "plt.show()\n",
        "\n",
        "# # Plot a histogram\n",
        "# plt.hist(data['rating'], bins=10, color='skyblue', edgecolor='black')\n",
        "# plt.xlabel('Data')\n",
        "# plt.ylabel('Frequency')\n",
        "# plt.title('Histogram of Data')\n",
        "# plt.show()\n",
        "\n",
        "# # Plot a box plot\n",
        "# plt.boxplot(data['rating'])\n",
        "# plt.ylabel('Data')\n",
        "# plt.title('Box Plot of Data')\n",
        "# plt.show()\n",
        "\n",
        "# # Plot a box plot\n",
        "# plt.boxplot(data['rating'])\n",
        "# plt.ylabel('Data')\n",
        "# plt.title('Box Plot of Data')\n",
        "# plt.show()\n",
        "\n",
        "# # Plot a density plot\n",
        "# sns.kdeplot(data['rating'], fill=True, color='skyblue')\n",
        "# plt.xlabel('Data')\n",
        "# plt.ylabel('Density')\n",
        "# plt.title('Density Plot of Data')\n",
        "# plt.show()\n"
      ],
      "metadata": {
        "colab": {
          "base_uri": "https://localhost:8080/",
          "height": 472
        },
        "id": "kgVds3k9p0So",
        "outputId": "2d7efd08-990c-48bd-ee8a-ec987b21a70b"
      },
      "execution_count": 5,
      "outputs": [
        {
          "output_type": "display_data",
          "data": {
            "text/plain": [
              "<Figure size 640x480 with 1 Axes>"
            ],
            "image/png": "[encoded data removed]"
          },
          "metadata": {}
        }
      ]
    },
    {
      "cell_type": "code",
      "source": [
        "# Get the value counts\n",
        "value_counts = data['rating'].value_counts()\n",
        "\n",
        "# Plot the value counts as a bar plot\n",
        "plt.bar(value_counts.index, value_counts.values)\n",
        "\n",
        "# Add labels and title\n",
        "plt.xlabel('Rating')\n",
        "plt.ylabel('Count')\n",
        "plt.title('Rating Distribution')\n",
        "\n",
        "# Show the plot\n",
        "plt.show()"
      ],
      "metadata": {
        "colab": {
          "base_uri": "https://localhost:8080/",
          "height": 477
        },
        "id": "XL4TrLBKhM4h",
        "outputId": "1511cbcb-f8c5-4892-8d67-62d990aae22c"
      },
      "execution_count": null,
      "outputs": [
        {
          "output_type": "display_data",
          "data": {
            "text/plain": [
              "<Figure size 640x480 with 1 Axes>"
            ],
            "image/png": "[encoded data removed]"
          },
          "metadata": {}
        }
      ]
    },
    {
      "cell_type": "code",
      "execution_count": null,
      "metadata": {
        "colab": {
          "base_uri": "https://localhost:8080/"
        },
        "id": "HgYjY0Xe6bCz",
        "outputId": "8add8ded-bf41-4c24-95d9-9667bf3a18b9"
      },
      "outputs": [
        {
          "name": "stdout",
          "output_type": "stream",
          "text": [
            "['', '[UNK]', 'the', 'and', 'i', 'to', 'it', 'a', 'is', 'this']\n"
          ]
        }
      ],
      "source": [
        "# Create a TextVectorization layer\n",
        "vectorizer = layers.TextVectorization(max_tokens= MAX_TOKEN,\n",
        "                                                output_mode= 'int',\n",
        "                                                output_sequence_length= MAX_LEN)\n",
        "\n",
        "# Adapt the TextVectorization layer to text data\n",
        "vectorizer.adapt(x_train)\n",
        "\n",
        "print(vectorizer.get_vocabulary()[:10])"
      ]
    },
    {
      "cell_type": "code",
      "execution_count": null,
      "metadata": {
        "colab": {
          "background_save": true,
          "base_uri": "https://localhost:8080/"
        },
        "id": "b_ZVeoFO6fZk",
        "outputId": "a198f8e6-6d12-4153-ced5-81bbffd411fa"
      },
      "outputs": [
        {
          "name": "stdout",
          "output_type": "stream",
          "text": [
            "Model: \"model\"\n",
            "_________________________________________________________________\n",
            " Layer (type)                Output Shape              Param #   \n",
            "=================================================================\n",
            " input_1 (InputLayer)        [(None, 1)]               0         \n",
            "                                                                 \n",
            " text_vectorization (TextVe  (None, 512)               0         \n",
            " ctorization)                                                    \n",
            "                                                                 \n",
            " embedding (Embedding)       (None, 512, 256)          2560000   \n",
            "                                                                 \n",
            " lstm (LSTM)                 (None, 512, 128)          197120    \n",
            "                                                                 \n",
            " lstm_1 (LSTM)               (None, 512, 64)           49408     \n",
            "                                                                 \n",
            " lstm_2 (LSTM)               (None, 512, 32)           12416     \n",
            "                                                                 \n",
            " lstm_3 (LSTM)               (None, 32)                8320      \n",
            "                                                                 \n",
            " dropout (Dropout)           (None, 32)                0         \n",
            "                                                                 \n",
            " dense (Dense)               (None, 1)                 33        \n",
            "                                                                 \n",
            "=================================================================\n",
            "Total params: 2827297 (10.79 MB)\n",
            "Trainable params: 2827297 (10.79 MB)\n",
            "Non-trainable params: 0 (0.00 Byte)\n",
            "_________________________________________________________________\n",
            "Epoch 1/10\n",
            " 54/125 [===========>..................] - ETA: 3:10 - loss: 0.5014 - accuracy: 0.8035"
          ]
        }
      ],
      "source": [
        "# Define input layer\n",
        "inputs = keras.Input(shape = (1,), dtype = tf.string)\n",
        "\n",
        "# vectorize input\n",
        "vectorize = vectorizer(inputs)\n",
        "\n",
        "# Embedding layer\n",
        "embeded= layers.Embedding(input_dim= MAX_TOKEN, output_dim= 256)(vectorize)\n",
        "\n",
        "x = layers.LSTM(units= 128, recurrent_dropout=0.5, return_sequences=True)(embeded)\n",
        "x = layers.LSTM(units= 64, recurrent_dropout=0.5, return_sequences=True)(x)\n",
        "x = layers.LSTM(units= 32, recurrent_dropout=0.5, return_sequences=True)(x)\n",
        "x = layers.LSTM(units= 32, recurrent_dropout=0.5)(x)\n",
        "x = layers.Dropout(0.5)(x)\n",
        "\n",
        "# Output layer\n",
        "outputs = layers.Dense(1, activation='sigmoid')(x)\n",
        "\n",
        "# Create Model\n",
        "model = Model(inputs, outputs)\n",
        "\n",
        "# Compile the model\n",
        "model.compile(optimizer= 'adam',\n",
        "              loss = 'binary_crossentropy',\n",
        "              metrics= 'accuracy')\n",
        "\n",
        "model.summary()\n",
        "\n",
        "history = model.fit(x_train , y_train, validation_data= (x_test, y_test),\n",
        "                    epochs = EPOCHS, batch_size= BATCH_SIZE)\n",
        "\n",
        "loss, accuracy = model.evaluate(x_test, y_test)\n",
        "print(f'Test loss: {loss :.2f}, Test accuracy: {accuracy :.2f}')\n",
        "\n",
        "# save model\n",
        "model.save(\"amazon_model\", save_format='tf')"
      ]
    },
    {
      "cell_type": "code",
      "execution_count": null,
      "metadata": {
        "id": "oHRjlkSW6jWR"
      },
      "outputs": [],
      "source": [
        "plt.style.use('ggplot')\n",
        "\n",
        "# Get the loss and accuracy values from the history object\n",
        "loss = history.history['loss']\n",
        "val_loss = history.history['val_loss']\n",
        "accuracy = history.history['accuracy']\n",
        "val_accuracy = history.history['val_accuracy']\n",
        "\n",
        "plt.figure(figsize =(12,4))\n",
        "plt.subplot(1, 2, 1)\n",
        "plt.plot(np.arange(EPOCHS), loss, label='Loss')\n",
        "plt.plot(np.arange(EPOCHS), accuracy, label='accuracy')\n",
        "plt.title('Train Loss/Accuracy')\n",
        "\n",
        "plt.subplot(1, 2, 2)\n",
        "plt.plot(np.arange(EPOCHS), val_loss, label= 'Val_loss')\n",
        "plt.plot(np.arange(EPOCHS), val_accuracy, label= 'Val_accuracy')\n",
        "plt.title('Test Loss/Accuracy')\n",
        "\n",
        "plt.tight_layout()\n",
        "plt.legend()\n",
        "\n",
        "plt.xlabel('Epotch')\n",
        "plt.ylabel('Loss/Accuracy')\n",
        "plt.title('Amazon sentiment analysis')\n",
        "\n",
        "plt.show()"
      ]
    }
  ],
  "metadata": {
    "colab": {
      "provenance": [],
      "authorship_tag": "ABX9TyN4xWzw3aLka6dcIwKnrjE+",
      "include_colab_link": true
    },
    "kernelspec": {
      "display_name": "Python 3",
      "name": "python3"
    },
    "language_info": {
      "name": "python"
    }
  },
  "nbformat": 4,
  "nbformat_minor": 0
}